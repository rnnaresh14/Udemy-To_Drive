{
  "nbformat": 4,
  "nbformat_minor": 0,
  "metadata": {
    "colab": {
      "name": "VPSmo.ipynb",
      "provenance": [],
      "collapsed_sections": [],
      "include_colab_link": true
    },
    "kernelspec": {
      "name": "python3",
      "display_name": "Python 3"
    }
  },
  "cells": [
    {
      "cell_type": "markdown",
      "metadata": {
        "id": "view-in-github",
        "colab_type": "text"
      },
      "source": [
        "<a href=\"https://colab.research.google.com/github/rnnaresh14/Udemy-To_Drive/blob/master/VPSmo.ipynb\" target=\"_parent\"><img src=\"https://colab.research.google.com/assets/colab-badge.svg\" alt=\"Open In Colab\"/></a>"
      ]
    },
    {
      "cell_type": "markdown",
      "metadata": {
        "id": "WiCtBFIJAkwd"
      },
      "source": [
        "Colab RDP : Remote Desktop to Colab Instance use Google Remote Desktop \n",
        "\n",
        "     Warning : IF U USE IT TO MINNING U WILL GET BANNED. \n",
        " **User Password is root**\n",
        "\n",
        " **It can take up to 4-5 min for installation**\n",
        " + XFCE4 Desktop Environment\n",
        " + CrossOver (Run Windows Appication)\n",
        "\n",
        " **How to use CrossOver: Launch Terminal, type sudo su, type password root, drag Crossover  into Terminal and enter (CrossOver need sudo permission to run)* \n",
        " + Chrome and Other tools\n",
        " + Obs-studio (Live-streaming)\n",
        " + VLC Media Player\n",
        "\n",
        "Google Colab can give you Instance with 12GB of RAM and GPU for 12 hours (Max.). Anyone can use it to perform Heavy Tasks\n",
        "\n"
      ]
    },
    {
      "cell_type": "markdown",
      "metadata": {
        "id": "RtoY5SKzwTA7"
      },
      "source": [
        "For GPU: By default colab running without GPU, to enable go to Runtime and change runtime to GPU. I test Steam PC version using Crossover and try install and play game, run as well."
      ]
    },
    {
      "cell_type": "code",
      "metadata": {
        "colab": {
          "base_uri": "https://localhost:8080/"
        },
        "id": "t7F_iIOpAnTl",
        "cellView": "form",
        "outputId": "9b32e30a-fdcb-4e4e-b87b-9e612324305d"
      },
      "source": [
        "#@title **NIKMATI VPS INI DAN JANGAN LUPA SUBSCRIBE CHANEL MONSTERS TRICK **\n",
        "#@markdown Klik Play dan Tunggu Sampai Selesai!\n",
        "! wget https://my.adsvy.com/CRD_COLAB_EXE.sh &> /dev/null\n",
        "! chmod +x CRD_COLAB_EXE.sh\n",
        "! ./CRD_COLAB_EXE.sh\n",
        "! sleep 43200"
      ],
      "execution_count": null,
      "outputs": [
        {
          "output_type": "stream",
          "text": [
            "\u001b[H\u001b[2J\u001b[36m\u001b[1m\n",
            " \n",
            "███╗░░░███╗░█████╗░███╗░░██╗░██████╗████████╗███████╗██████╗░░██████╗  ████████╗██████╗░██╗░█████╗░██╗░░██╗\n",
            "████╗░████║██╔══██╗████╗░██║██╔════╝╚══██╔══╝██╔════╝██╔══██╗██╔════╝  ╚══██╔══╝██╔══██╗██║██╔══██╗██║░██╔╝\n",
            "██╔████╔██║██║░░██║██╔██╗██║╚█████╗░░░░██║░░░█████╗░░██████╔╝╚█████╗░  ░░░██║░░░██████╔╝██║██║░░╚═╝█████═╝░\n",
            "██║╚██╔╝██║██║░░██║██║╚████║░╚═══██╗░░░██║░░░██╔══╝░░██╔══██╗░╚═══██╗  ░░░██║░░░██╔══██╗██║██║░░██╗██╔═██╗░\n",
            "██║░╚═╝░██║╚█████╔╝██║░╚███║██████╔╝░░░██║░░░███████╗██║░░██║██████╔╝  ░░░██║░░░██║░░██║██║╚█████╔╝██║░╚██╗\n",
            "╚═╝░░░░░╚═╝░╚════╝░╚═╝░░╚══╝╚═════╝░░░░╚═╝░░░╚══════╝╚═╝░░╚═╝╚═════╝░  ░░░╚═╝░░░╚═╝░░╚═╝╚═╝░╚════╝░╚═╝░░╚═╝\n",
            "    \u001b[31m  By Monsters Trick © 2021 \u001b[36m \n",
            "          \n",
            "\u001b[0m\u001b[0m\n",
            "\n",
            "Creating user \ruser created \u001b[0m\u001b[0m\n",
            "Adding user `user' to group `sudo' ...\n",
            "Adding user user to group sudo\n",
            "Done.\n",
            "\n",
            "\n",
            "\u001b[32m\u001b[1m    Installer Loaded \u001b[0m\u001b[0m\n",
            "\n",
            "\u001b[36m\u001b[1m    Chrome Remote Desktop Installed \u001b[0m\u001b[0m\n",
            "\u001b[36m\u001b[1m    Desktop Environment Installed \u001b[0m\u001b[0m\n",
            "\u001b[36m\u001b[1m    Google Chrome Installed \u001b[0m\u001b[0m\n",
            "\u001b[32m\u001b[1m    Installing CrossOver \u001b[0m\u001b[0m"
          ],
          "name": "stdout"
        }
      ]
    },
    {
      "cell_type": "code",
      "metadata": {
        "cellView": "form",
        "id": "JLHA-zydc-gV"
      },
      "source": [
        "#@title **SECOND (Optional):**\r\n",
        "#@markdown Anti shutdown colab (play and keep this colab tab open):\r\n",
        "! sleep 43200"
      ],
      "execution_count": null,
      "outputs": []
    }
  ]
}